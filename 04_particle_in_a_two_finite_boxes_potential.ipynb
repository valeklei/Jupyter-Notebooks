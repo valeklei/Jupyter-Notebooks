{
 "cells": [
  {
   "cell_type": "markdown",
   "metadata": {},
   "source": [
    "# Particle in a box with two finite-potential external walls and a  barrier between them "
   ]
  },
  {
   "cell_type": "markdown",
   "metadata": {},
   "source": [
    "### Authors:"
   ]
  },
  {
   "cell_type": "markdown",
   "metadata": {},
   "source": [
    "* [Vinícius Wilian D. Cruzeiro](https://scholar.google.com/citations?user=iAK04WMAAAAJ). E-mail: vwcruzeiro@ufl.edu\n",
    "* Xiang Gao. E-mail: qasdfgtyuiop@ufl.edu\n",
    "* [Valeria D. Kleiman](http://kleiman.chem.ufl.edu/). E-mail: kleiman@ufl.edu\n",
    "\n",
    "Department of Chemistry\n",
    "\n",
    "Physical Chemistry Division\n",
    "\n",
    "University of Florida\n",
    "\n",
    "P.O. Box 117200\n",
    "\n",
    "Gainesville, FL 32611-7200\n",
    "\n",
    "United States"
   ]
  },
  {
   "cell_type": "markdown",
   "metadata": {},
   "source": [
    "**Instructions:**\n",
    "* The reader should follow this notebook in the order that it is presented, executing code cells in consecutive order.\n",
    "* In order to execute a cell you may click on the cell and click the *PLAY* button, press *Shift+Enter*, or got to *Cell-->Run cells*. The user may also execute all cells at once by clicking on *Cell --> Run All* at the toolbar above. \n",
    "* **Important:** Some cells **are only going to execute after the user enters input values in the corresponding boxes**."
   ]
  },
  {
   "cell_type": "code",
   "execution_count": 1,
   "metadata": {
    "collapsed": true
   },
   "outputs": [],
   "source": [
    "from IPython.display import HTML"
   ]
  },
  {
   "cell_type": "code",
   "execution_count": 2,
   "metadata": {
    "collapsed": false
   },
   "outputs": [
    {
     "data": {
      "text/html": [
       "<script>\n",
       "code_show=true; \n",
       "function code_toggle() {\n",
       " if (code_show){\n",
       " $('div.input').hide();\n",
       " } else {\n",
       " $('div.input').show();\n",
       " }\n",
       " code_show = !code_show\n",
       "} \n",
       "$( document ).ready(code_toggle);\n",
       "</script>\n",
       "The raw code for this IPython notebook is by default hidden for easier reading. As you scroll through code cell,\n",
       "they appear as empty cells\n",
       "with a blue right-side edge\n",
       "To toggle on/off the raw code, click <a href=\"javascript:code_toggle()\">here</a>."
      ],
      "text/plain": [
       "<IPython.core.display.HTML object>"
      ]
     },
     "execution_count": 2,
     "metadata": {},
     "output_type": "execute_result"
    }
   ],
   "source": [
    "HTML('''<script>\n",
    "code_show=true; \n",
    "function code_toggle() {\n",
    " if (code_show){\n",
    " $('div.input').hide();\n",
    " } else {\n",
    " $('div.input').show();\n",
    " }\n",
    " code_show = !code_show\n",
    "} \n",
    "$( document ).ready(code_toggle);\n",
    "</script>\n",
    "The raw code for this IPython notebook is by default hidden for easier reading. As you scroll through code cell,\n",
    "they appear as empty cells\n",
    "with a blue right-side edge\n",
    "To toggle on/off the raw code, click <a href=\"javascript:code_toggle()\">here</a>.''')"
   ]
  },
  {
   "cell_type": "markdown",
   "metadata": {},
   "source": [
    "### Libraries used in this notebook:"
   ]
  },
  {
   "cell_type": "markdown",
   "metadata": {},
   "source": [
    "On the next cell we are going to import the libraries used in this notebook as well as call some important functions."
   ]
  },
  {
   "cell_type": "code",
   "execution_count": 3,
   "metadata": {
    "collapsed": false
   },
   "outputs": [],
   "source": [
    "import matplotlib as mpl # matplotlib library for plotting and visualization\n",
    "import matplotlib.pylab as plt # matplotlib library for plotting and visualization\n",
    "import numpy as np #numpy library for numerical manipulation, especially suited for data arrays\n",
    "from IPython.display import HTML # Importing function necessary to display the animation videos on the screen"
   ]
  },
  {
   "cell_type": "markdown",
   "metadata": {},
   "source": [
    "In the next cell we are shutting down eventual warnings displayed by IPython. This cell is optional."
   ]
  },
  {
   "cell_type": "code",
   "execution_count": 4,
   "metadata": {
    "collapsed": true
   },
   "outputs": [],
   "source": [
    "import warnings\n",
    "warnings.filterwarnings('ignore')"
   ]
  },
  {
   "cell_type": "markdown",
   "metadata": {},
   "source": [
    "Executing the next cell prints on the screen the versions of IPython, Python and its libraries on your computer. Please check if the versions are up-to-date to facilitate a smooth running of the program."
   ]
  },
  {
   "cell_type": "code",
   "execution_count": 5,
   "metadata": {
    "collapsed": false
   },
   "outputs": [
    {
     "name": "stdout",
     "output_type": "stream",
     "text": [
      "Python version = 2.7.12 (default, Jul  1 2016, 15:12:24) \n",
      "[GCC 5.4.0 20160609]\n",
      "IPython version = 5.1.0\n",
      "Matplotlib version = 1.11.1\n",
      "Numpy version = 1.11.1\n"
     ]
    }
   ],
   "source": [
    "import sys # checking the version of Python\n",
    "import IPython # checking the version of IPython\n",
    "print(\"Python version = {}\".format(sys.version))\n",
    "print(\"IPython version = {}\".format(IPython.__version__))\n",
    "print(\"Matplotlib version = {}\".format(plt.__version__))\n",
    "print(\"Numpy version = {}\".format(np.__version__))"
   ]
  },
  {
   "cell_type": "markdown",
   "metadata": {},
   "source": [
    "### Special calls:"
   ]
  },
  {
   "cell_type": "markdown",
   "metadata": {},
   "source": [
    "The next cell configures `matplotlib` to show figures embedded within the cells it was executed from, instead of opening a new window for each figure."
   ]
  },
  {
   "cell_type": "code",
   "execution_count": null,
   "metadata": {
    "collapsed": true
   },
   "outputs": [],
   "source": [
    "%matplotlib inline"
   ]
  },
  {
   "cell_type": "markdown",
   "metadata": {},
   "source": [
    "## Approaching the problem"
   ]
  },
  {
   "cell_type": "markdown",
   "metadata": {},
   "source": [
    "We can extend the calculations for the particle in a finite potential box (presented in a previous notebook) and apply it to a particle contained within two boxes intermediated by a barrier, all with independent finite potentials.   In this problem, not only the height of the potentials is important, but the distance between them is critical to the understanding of the behavior of hte particle.\n",
    "\n",
    "This is the potential $V(x)$ we are going to consider:"
   ]
  },
  {
   "cell_type": "code",
   "execution_count": null,
   "metadata": {
    "collapsed": false
   },
   "outputs": [],
   "source": [
    "from IPython.display import Image\n",
    "Image(filename='particle_in_two_finite_boxes_diagram.png')"
   ]
  },
  {
   "cell_type": "markdown",
   "metadata": {},
   "source": [
    "Or mathematically:\n",
    "\n",
    "$V(x) =\n",
    "\\left\\{\n",
    "\t\\begin{array}{lll}\n",
    "       I:   &  V_o  & \\; \\mbox{if }  \\; x \\leq -\\left(\\frac{d}{2}+ L \\right) \\\\\n",
    "       II:  & 0    & \\; \\mbox{if}\\; -\\left(\\frac{d}{2} +L\\right) \\leq  x  \\leq -\\frac{d}{2} \\\\\n",
    "\t   III: & V_1  & \\; \\mbox{if }\\; -\\frac{d}{2} \\leq x \\leq \\frac{d}{2} \\\\\n",
    "\t   IV:  &  0    & \\; \\mbox{if } \\;\\frac{d}{2} \\leq x \\leq \\frac{d}{2}+L \\\\\n",
    "\t   V:  & V_o  & \\; \\mbox{if }  \\; x \\geq \\frac{d}{2}+ L\n",
    "\t\\end{array}\n",
    "\\right.$\n",
    "\n",
    "For simplicity, **we will only consider the case in which $V_1 \\geq V_o$**."
   ]
  },
  {
   "cell_type": "markdown",
   "metadata": {},
   "source": [
    "As it was the case for a single box, the interesting situation is when $E \\leq V_o$ and we look for the bound states. For energies larger than $V_o$ and $V_1$ the particle will be free.\n",
    "\n",
    "Since the potential is even $[V(-x) = V(x)]$, the wavefunctions can be choosen to be even [$\\psi(-x) = \\psi(x)$] or odd $[\\psi(-x) = -\\psi(x)]$. Applying the first constrain, in which we consider that the wavefunctions must be finite, leads to the solutions for the Schrödinger equation for $E \\leq V_o$ (bounded states) as:\n",
    "\n",
    "**Solutions: $\\psi(x) = \\pm \\psi(-x)$**\n",
    "$$\\begin{array} {lll}\n",
    "\\mbox{For }  I:   & \\psi(x) = \\pm\\; De^{\\alpha_o x} \\\\\n",
    "\\mbox{For }  II:  & \\psi(x) = \\pm \\left[B\\cos(kx) + C\\sin(kx)\\right] \\\\\n",
    "\\mbox{For }  III: & \\psi(x) = A\\left(e^{\\alpha_1 x}\\pm e^{-\\alpha_1 x}\\right) \\\\\n",
    "\\mbox{For }  IV:  & \\psi(x) = B\\cos(kx) + C\\sin(kx) \\\\\n",
    "\\mbox{For }  V:   & \\psi(x) = De^{-\\alpha_o x} \\\\\n",
    "\\end{array}  \\tag{1}$$\n",
    "\n",
    "where the $\\pm $ corresponds to the even or odd solutions, respectively. As before, the wavefunctions and their first derivatives must be continuous.   In addition, at the boundaries between regions, the wavefucntions must have the same value.\n"
   ]
  },
  {
   "cell_type": "markdown",
   "metadata": {},
   "source": [
    "After imposing the continuity and boundary conditions we reach the following relation for the allowed energy values:\n",
    "\n",
    "**Even solutions:** \n",
    "$$\\frac{\\alpha_1\\tanh\\left(\\alpha_1\\frac{d}{2}\\right)+k\\tan\\left(k\\frac{d}{2}\\right)}{k-\\alpha_1\\tanh\\left(\\alpha_1\\frac{d}{2}\\right)\\tan\\left(k\\frac{d}{2}\\right)}=\\frac{-\\alpha_o+k\\tan\\left[k\\left(\\frac{d}{2}+L\\right)\\right]}{k+\\alpha_o\\tan\\left[k\\left(\\frac{d}{2}+L\\right)\\right]}  \\tag{2}$$\n",
    "\n",
    "\n",
    "\n",
    "**Odd solutions:** \n",
    "\n",
    "$$\\frac{k\\tanh\\left(\\alpha_1\\frac{d}{2}\\right)-\\alpha_1\\tan\\left(k\\frac{d}{2}\\right)}{\\alpha_1+k\\tanh\\left(\\alpha_1\\frac{d}{2}\\right)\\tan\\left(k\\frac{d}{2}\\right)}=\\frac{k+\\alpha_o\\tan\\left[k\\left(\\frac{d}{2}+L\\right)\\right]}{-\\alpha_o+k\\tan\\left[k\\left(\\frac{d}{2}+L\\right)\\right]}  \\tag{3}$$\n",
    "\n",
    "where:\n",
    "\n",
    "$$\\alpha_o = \\frac{\\sqrt{2m(V_o-E)}}{\\hbar} \\hspace 3cm \\alpha_1 = \\frac{\\sqrt{2m(V_1-E)}}{\\hbar} \\hspace 3cm k = \\frac{\\sqrt{2mE}}{\\hbar}$$\n",
    "\n",
    "The allowed solutions will be those corresponding to energies that obey equations 2 and 3.\n",
    "Once we find the allowed energies, we can go back and obtain the wavefunctions with the proper coefficients. "
   ]
  },
  {
   "cell_type": "markdown",
   "metadata": {},
   "source": [
    "## Finding the allowed Energies graphically "
   ]
  },
  {
   "cell_type": "code",
   "execution_count": null,
   "metadata": {
    "collapsed": false,
    "scrolled": false
   },
   "outputs": [],
   "source": [
    "# Reading the input variables from the user and making sure V1 > Vo\n",
    "Vo = abs(float(input(\"Enter the value for Vo (in eV) = \")))\n",
    "L = abs(float(input(\"Enter the value for L (box size, in Angstroms) = \")))\n",
    "V1 = 0.9*Vo\n",
    "while(V1<Vo):\n",
    "    V1 = float(input(\"Enter the value for V1 (V1 >= Vo, in eV) = \"))\n",
    "    if(V1<Vo):\n",
    "        print (\"V1 cannot be higher than Vo. Please enter the value for V1 again.\\n\")\n",
    "d = abs(float(input(\"Enter the value for d (barrier size, in Angstroms) = \")))\n",
    "\n",
    "val = np.sqrt(2.0*9.10938356e-31*1.60217662e-19)*1e-10/(1.05457180013e-34) \n",
    "# equal to sqrt(2m_e (kg)* (Joules/eV)* 1 (m/A)/hbar (in J.sec)\n",
    "\n",
    "# Defining functions that come from the energy expression\n",
    "def f0(E):\n",
    "    var = -np.sqrt(Vo-E)+np.sqrt(E)*np.tan(np.sqrt(E)*val*(d/2.0+L))\n",
    "    var = var/(np.sqrt(E)+np.sqrt(Vo-E)*np.tan(np.sqrt(E)*val*(d/2.0+L)))\n",
    "    return var\n",
    "\n",
    "def f1(E):\n",
    "    var = np.sqrt(V1-E)*np.tanh(d*np.sqrt(V1-E)*val/2.0)+np.sqrt(E)*np.tan(d*np.sqrt(E)*val/2.0)\n",
    "    var = var/(np.sqrt(E)-np.sqrt(V1-E)*np.tanh(d*np.sqrt(V1-E)*val/2.0)*np.tan(d*np.sqrt(E)*val/2.0))\n",
    "    return var\n",
    "\n",
    "def f2(E):\n",
    "    var = np.sqrt(E)+np.sqrt(Vo-E)*np.tan(np.sqrt(E)*val*(d/2.0+L))\n",
    "    var = var/(np.sqrt(E)*np.tan(np.sqrt(E)*val*(d/2.0+L))-np.sqrt(Vo-E))\n",
    "    return var\n",
    "\n",
    "def f3(E):\n",
    "    var = np.sqrt(E)*np.tanh(d*np.sqrt(V1-E)*val/2.0)-np.sqrt(V1-E)*np.tan(d*np.sqrt(E)*val/2.0)\n",
    "    var = var/(np.sqrt(V1-E)+np.sqrt(E)*np.tanh(d*np.sqrt(V1-E)*val/2.0)*np.tan(d*np.sqrt(E)*val/2.0))\n",
    "    return var\n",
    "\n",
    "# Defining maximum values to be displayed on the y axes\n",
    "maxval = 0.0\n",
    "for n in range(10):\n",
    "    if (abs(f1(n*Vo/10.0))>maxval and abs(f1(n*Vo/10.0))!=float('inf')): maxval = abs(f1(n*Vo/10.0))\n",
    "if (np.sqrt(Vo)*1.9>maxval):\n",
    "    ymax1 = 1.9*np.sqrt(Vo)\n",
    "else:\n",
    "    ymax1 = maxval\n",
    "maxval = 0.0\n",
    "for n in range(10):\n",
    "    if (abs(f3(n*Vo/10.0))>maxval and abs(f3(n*Vo/10.0))!=float('inf')): maxval = abs(f3(n*Vo/10.0))\n",
    "if (np.sqrt(Vo)*1.9>maxval):\n",
    "    ymax2 = 1.9*np.sqrt(Vo)\n",
    "else:\n",
    "    ymax2 = maxval\n",
    "\n",
    "# Generating the wavefunction graph\n",
    "plt.rcParams.update({'font.size': 18, 'font.family': 'STIXGeneral', 'mathtext.fontset': 'stix'})\n",
    "fig, axes = plt.subplots(1, 2, figsize=(13,4))\n",
    "axes[0].axis([0.0,Vo,-ymax1,ymax1])\n",
    "axes[0].set_xlabel(r'$E$ (eV)')\n",
    "axes[0].set_ylabel(r'')\n",
    "axes[0].set_title('Even solutions')\n",
    "axes[1].axis([0.0,Vo,-ymax2,ymax2])\n",
    "axes[1].set_xlabel(r'$E$ (eV)')\n",
    "axes[1].set_ylabel(r'')\n",
    "axes[1].set_title('Odd solutions')\n",
    "E_even = np.linspace(0.0, Vo, 100000)\n",
    "E_odd = np.linspace(0.0, Vo, 100000)\n",
    "# Removing discontinuity points\n",
    "for n in range(100000):\n",
    "    if abs(np.sqrt(E_even[n])+np.sqrt(Vo-E_even[n])*np.tan(np.sqrt(E_even[n])*val*(d/2.0+L)))<0.01: E_even[n] = np.nan\n",
    "    if abs(np.sqrt(E_even[n])-np.sqrt(V1-E_even[n])*np.tanh(d*np.sqrt(V1-E_even[n])*val/2.0)*np.tan(d*np.sqrt(E_even[n])*val/2.0))<0.01: E_even[n] = np.nan\n",
    "    if abs(np.sqrt(E_odd[n])*np.tan(np.sqrt(E_odd[n])*val*(d/2.0+L))-np.sqrt(Vo-E_odd[n]))<0.01: E_odd[n] = np.nan\n",
    "    if abs(np.sqrt(V1-E_odd[n])+np.sqrt(E_odd[n])*np.tanh(d*np.sqrt(V1-E_odd[n])*val/2.0)*np.tan(d*np.sqrt(E_odd[n])*val/2.0))<0.01: E_odd[n] = np.nan\n",
    "# Plotting the curves and setting the labelsaxes[0].plot(E_even, f0(E_even), label=r\"$\\frac{-\\alpha_o+k\\tan\\left[k\\left(\\frac{d}{2}+a\\right)\\right]}{k+\\alpha_o\\tan\\left[k\\left(\\frac{d}{2}+a\\right)\\right]}$\", color=\"blue\")\n",
    "axes[0].plot(E_even, f0(E_even), label=r\"$\\frac{-\\alpha_o+k\\tan\\left[k\\left(\\frac{d}{2}+L\\right)\\right]}{k+\\alpha_o\\tan\\left[k\\left(\\frac{d}{2}+L\\right)\\right]}$\", color=\"blue\")\n",
    "axes[0].plot(E_even, f1(E_even), label=r\"$\\frac{\\alpha_1\\tanh\\left(\\alpha_1\\frac{d}{2}\\right)+k\\tan\\left(k\\frac{d}{2}\\right)}{k-\\alpha_1\\tanh\\left(\\alpha_1\\frac{d}{2}\\right)\\tan\\left(k\\frac{d}{2}\\right)}$\", color=\"red\")\n",
    "axes[1].plot(E_odd,  f2(E_odd),  label=r\"$\\frac{k+\\alpha_o\\tan\\left[k\\left(\\frac{d}{2}+L\\right)\\right]}{-\\alpha_o+k\\tan\\left[k\\left(\\frac{d}{2}+L\\right)\\right]}$\", color=\"blue\")\n",
    "axes[1].plot(E_odd,  f3(E_odd),  label=r\"$\\frac{k\\tanh\\left(\\alpha_1\\frac{d}{2}\\right)-\\alpha_1\\tan\\left(k\\frac{d}{2}\\right)}{\\alpha_1+k\\tanh\\left(\\alpha_1\\frac{d}{2}\\right)\\tan\\left(k\\frac{d}{2}\\right)}$\", color=\"red\")\n",
    "# Chosing the positions of the legends\n",
    "axes[0].legend(bbox_to_anchor=(0.05, -0.2), loc=2, borderaxespad=0.0)\n",
    "axes[1].legend(bbox_to_anchor=(0.05, -0.2), loc=2, borderaxespad=0.0)\n",
    "\n",
    "# Show the plots on the screen once the code reaches this point\n",
    "plt.show()"
   ]
  },
  {
   "cell_type": "markdown",
   "metadata": {},
   "source": [
    "The allowed values would then be the values of $E$ in which the two curves cross.\n",
    "Here are some question to think about:\n",
    "* **Q1:** How many bound states are possible?\n",
    "* **Q2:** How many bound states are even and how many are odd?\n",
    "* **Q3:** Is the ground state described by an even or an odd wavefunction?\n",
    "* **Q4:** Can you read accuretely the allowed values of energy from these graphs?\n",
    "\n",
    "The allowed values of $E$ can be found numerically, yielding:"
   ]
  },
  {
   "cell_type": "code",
   "execution_count": null,
   "metadata": {
    "collapsed": false
   },
   "outputs": [],
   "source": [
    "print (\"The allowed bounded energies are:\")\n",
    "# We want to find the values of E in which f_even and f_odd are zero\n",
    "f_even = lambda E : f0(E)-f1(E)\n",
    "f_odd = lambda E : f2(E)-f3(E)\n",
    "E_old = 0.0\n",
    "f_even_old = f_even(0.0)\n",
    "f_odd_old = f_odd(0.0)\n",
    "n_even = 1\n",
    "n_odd = 1\n",
    "E_vals = np.zeros(999)\n",
    "n = 1\n",
    "# Here we loop from E = 0 to E = Vo seeking roots\n",
    "for E in np.linspace(0.0, Vo, 200000):\n",
    "    f_even_now = f_even(E)\n",
    "    # If the difference is zero or if it changes sign then we might have passed through a root\n",
    "    if (f_even_now == 0.0 or f_even_now/f_even_old < 0.0):\n",
    "        # If the old values of f are not close to zero, this means we didn't pass through a root but\n",
    "        # through a discontinuity point\n",
    "        if (abs(f_even_now)<1.0 and abs(f_even_old)<1.0):\n",
    "            E_vals[n-1] = (E+E_old)/2.0\n",
    "            print (\"  State #%3d (Even wavefunction): %9.4f eV, %13.6g J\" % (n,E_vals[n-1],E_vals[n-1]*1.60217662e-19))\n",
    "            n += 1\n",
    "            n_even += 1\n",
    "    f_odd_now = f_odd(E)\n",
    "    # If the difference is zero or if it changes sign then we might have passed through a root\n",
    "    if (f_odd_now == 0.0 or f_odd_now/f_odd_old < 0.0) and (E>0.0):\n",
    "        # If the old values of f are not close to zero, this means we didn't pass through a root but\n",
    "        # through a discontinuity point\n",
    "        if (abs(f_odd_now)<1.0 and abs(f_odd_old)<1.0):\n",
    "            E_vals[n-1] = (E+E_old)/2.0\n",
    "            print (\"  State #%3d  (Odd wavefunction): %9.4f eV, %13.6g J\" % (n,E_vals[n-1],E_vals[n-1]*1.60217662e-19))\n",
    "            n += 1\n",
    "            n_odd += 1\n",
    "    E_old = E\n",
    "    f_even_old = f_even_now\n",
    "    f_odd_old = f_odd_now\n",
    "nstates = n-1\n",
    "print (\"\\nTHERE ARE %3d POSSIBLE BOUNDED ENERGIES\" % nstates)"
   ]
  },
  {
   "cell_type": "markdown",
   "metadata": {},
   "source": [
    "Since the lowest energy corresponds to the even solution of the wavefunction, and the states are labeled by their  quantum number $(n=1,2...n_{max})$, the even solutions will correspond to odd quantum numbers and the odd solutions will correspond to even quantum numbers.  "
   ]
  },
  {
   "cell_type": "markdown",
   "metadata": {},
   "source": [
    "**Plotting an Energy Diagram helps us to see the energy separation between the states.**"
   ]
  },
  {
   "cell_type": "code",
   "execution_count": null,
   "metadata": {
    "collapsed": false
   },
   "outputs": [],
   "source": [
    "# Generating the energy diagram\n",
    "fig, ax = plt.subplots(figsize=(8,14))\n",
    "ax.spines['right'].set_color('none')\n",
    "ax.yaxis.tick_left()\n",
    "ax.spines['bottom'].set_color('none')\n",
    "ax.axes.get_xaxis().set_visible(False)\n",
    "ax.spines['top'].set_color('none')\n",
    "ax.axis([0.0,20.0,0.0,1.1*Vo])\n",
    "ax.set_ylabel(r'$E_n$ (eV)')\n",
    "for n in range(1,nstates+1):\n",
    "    str1=\"$n = \"+str(n)+r\"$, $E_{\"+str(n)+r\"} = %.3f$ eV\"%(E_vals[n-1])\n",
    "    if(n%2==1):\n",
    "        ax.text(0.5, E_vals[n-1]-0.005*Vo, str1, fontsize=16, color=\"#ff4d4d\")\n",
    "        ax.hlines(E_vals[n-1], 7.2, 18.3, linewidth=1.8, linestyle='--', color=\"#ff4d4d\")\n",
    "    else:\n",
    "        ax.text(18.5, E_vals[n-1]-0.005*Vo, str1, fontsize=16, color=\"#800000\")\n",
    "        ax.hlines(E_vals[n-1], 7.2, 18.3, linewidth=1.8, linestyle='--', color=\"#800000\")\n",
    "str1=\"$V_o = %.3f$ eV\"%(Vo)\n",
    "#ax.text(18.5, Vo-0.01*Vo, str1, fontsize=16, color=\"blue\")\n",
    "ax.text(10, Vo+0.01*Vo, str1, fontsize=16, color=\"blue\")\n",
    "ax.hlines(Vo, 7.2, 18.3, linewidth=1.8, linestyle='-', color=\"blue\")\n",
    "ax.hlines(0.0, 0.0, 20.0, linewidth=1.8, linestyle='-', color=\"black\")\n",
    "plt.title(\"Energy Levels\", fontsize=30)\n",
    "plt.show()"
   ]
  },
  {
   "cell_type": "markdown",
   "metadata": {},
   "source": [
    "We can now plug the values of $E$ back into the wavefunction expressions and plot the **wavefunctions** and the corresponding **probability densities**."
   ]
  },
  {
   "cell_type": "code",
   "execution_count": null,
   "metadata": {
    "collapsed": false
   },
   "outputs": [],
   "source": [
    "print (\"\\nThe Wavefunctions are:\")\n",
    "\n",
    "# Drawing the backgroung graph\n",
    "fig, axes = plt.subplots(1, 2, figsize=(19,9))\n",
    "axes[0].spines['right'].set_color('none')\n",
    "axes[0].xaxis.tick_bottom()\n",
    "axes[0].spines['left'].set_color('none')\n",
    "axes[0].axes.get_yaxis().set_visible(False)\n",
    "axes[0].spines['top'].set_color('none')\n",
    "\n",
    "if (V1 > 1.4*Vo):  \n",
    "    Ymax=1.4*Vo\n",
    "else:\n",
    "    Ymax=1.1*V1\n",
    "axes[0].axis([-1.5*L-d/2.0,1.5*L+d/2.0,0.0,Ymax])\n",
    "axes[0].set_xlabel(r'$X$ (Angstroms)')\n",
    "str1=\"$V_o = %.2f$ eV\"%(Vo)\n",
    "str2=\"$V_1 = %.2f$ eV\"%(V1)\n",
    "axes[0].text(1.05*(L+d/2.0), 1.02*Vo, str1, fontsize=24, color=\"blue\")\n",
    "axes[0].text(-1.5*(L+d/2.0), 1.02*Vo, str1, fontsize=24, color=\"blue\")\n",
    "if(d>0.0): axes[0].text(d/2, 1.02*Vo, str2, fontsize=24, color=\"blue\")\n",
    "# Defining the maximum amplitude of the wavefunction\n",
    "if ((E_vals[1]-E_vals[0])/(E_vals[2]-E_vals[0]) < 0.2):\n",
    "    amp = np.sqrt((E_vals[2]-E_vals[0])/1.5)\n",
    "else:\n",
    "    amp = np.sqrt((E_vals[1]-E_vals[0])/1.5)\n",
    "# Plotting the energy levels\n",
    "for n in range(1,nstates+1):\n",
    "    # Odd solution\n",
    "    if (n%2==0): axes[0].hlines(E_vals[n-1], -1.5*L-d/2.0, 1.5*L+d/2.0, linewidth=1.8, linestyle='--', color=\"#800000\")\n",
    "    # Even solution\n",
    "    if (n%2==1): axes[0].hlines(E_vals[n-1], -1.5*L-d/2.0, 1.5*L+d/2.0, linewidth=1.8, linestyle='--', color=\"#ff4d4d\")\n",
    "axes[0].margins(0.00)\n",
    "axes[0].vlines(-L-d/2.0, 0.0, Vo, linewidth=4.8, color=\"blue\")\n",
    "if(d>0.0):\n",
    "    axes[0].vlines(-d/2.0, 0.0, V1, linewidth=4.8, color=\"blue\")\n",
    "    axes[0].vlines(d/2.0, 0.0, V1, linewidth=4.8, color=\"blue\")\n",
    "axes[0].vlines(L+d/2.0, 0.0, Vo, linewidth=4.8, color=\"blue\")\n",
    "axes[0].hlines(Vo, -1.5*L-d/2.0, -L-d/2.0, linewidth=4.8, color=\"blue\")\n",
    "axes[0].hlines(0.0, -L-d/2.0, -d/2.0, linewidth=4.8, color=\"blue\")\n",
    "axes[0].hlines(V1, -d/2.0, d/2.0, linewidth=4.8, color=\"blue\")\n",
    "axes[0].hlines(0.0, d/2.0, L+d/2.0, linewidth=4.8, color=\"blue\")\n",
    "axes[0].hlines(Vo, L+d/2.0, 1.5*L+d/2.0, linewidth=4.8, color=\"blue\")\n",
    "axes[0].set_title('Even Wavefunctions', fontsize=30)\n",
    "\n",
    "# Defining the X ranges\n",
    "X_lef2 = np.linspace(-1.5*L-d/2.0, -L-d/2.0, 900,endpoint=True)\n",
    "X_lef1 = np.linspace(-L-d/2.0, -d/2.0, 900,endpoint=True)\n",
    "X_mid = np.linspace(-d/2.0, d/2.0, 900,endpoint=True)\n",
    "X_rig1 = np.linspace(d/2.0, L+d/2.0, 900,endpoint=True)\n",
    "X_rig2 = np.linspace(L+d/2.0, 1.5*L+d/2.0, 900,endpoint=True)\n",
    "\n",
    "# Plotting the  wavefunctions\n",
    "for n in range(1,nstates+1):\n",
    "    k = np.sqrt(E_vals[n-1])*val\n",
    "    a0 = np.sqrt(Vo-E_vals[n-1])*val\n",
    "    a1 = np.sqrt(V1-E_vals[n-1])*val\n",
    "    str1=\"$n = \"+str(n)+r\"$, $E_{\"+str(n)+r\"} = %.3f$ eV\"%(E_vals[n-1])\n",
    "    # Even solution wavefunctions\n",
    "    if (n%2==1):\n",
    "        B = amp/np.sqrt(f1(E_vals[n-1])*f1(E_vals[n-1])+1.0)\n",
    "        C = f1(E_vals[n-1])*B\n",
    "        A = (B*np.cos(k*d/2.0)+C*np.sin(k*d/2.0))/(np.exp(-a1*d/2.0)+np.exp(a1*d/2.0))\n",
    "        D = np.exp(a0*(L+d/2.0))*(B*np.cos(k*(L+d/2.0))+C*np.sin(k*(L+d/2.0)))\n",
    "        axes[0].plot(X_lef2, E_vals[n-1]+D*np.exp(a0*X_lef2), color=\"#ff4d4d\", label=\"\", linewidth=2.8)\n",
    "        axes[0].plot(X_lef1, E_vals[n-1]+B*np.cos(k*X_lef1)-C*np.sin(k*X_lef1), color=\"#ff4d4d\", label=\"\", linewidth=2.8)\n",
    "        axes[0].plot(X_mid,  E_vals[n-1]+A*(np.exp(-a1*X_mid)+np.exp(a1*X_mid)), color=\"#ff4d4d\", label=\"\", linewidth=2.8)\n",
    "        axes[0].plot(X_rig1, E_vals[n-1]+B*np.cos(k*X_rig1)+C*np.sin(k*X_rig1), color=\"#ff4d4d\", label=\"\", linewidth=2.8)\n",
    "        axes[0].plot(X_rig2, E_vals[n-1]+D*np.exp(-a0*X_rig2), color=\"#ff4d4d\", label=\"\", linewidth=2.8)\n",
    "        axes[0].text(1.25*(L+d/2.0), E_vals[n-1]+0.01*Vo, str1, fontsize=16, color=\"#ff4d4d\")\n",
    "    \n",
    "# Drawing the backgroung graph\n",
    "axes[1].spines['right'].set_color('none')\n",
    "axes[1].xaxis.tick_bottom()\n",
    "axes[1].spines['left'].set_color('none')\n",
    "axes[1].axes.get_yaxis().set_visible(False)\n",
    "axes[1].spines['top'].set_color('none')\n",
    "axes[1].axis([-1.5*L-d/2.0,1.5*L+d/2.0,0.0,Ymax])\n",
    "axes[1].set_xlabel(r'$X$ (Angstroms)')\n",
    "str1=\"$V_o = %.3f$ eV\"%(Vo)\n",
    "str11=\"$V_1= %.3f$ eV\"% (V1)\n",
    "axes[1].text(1.05*(L+d/2.0), 1.02*Vo, str1, fontsize=24, color=\"blue\")\n",
    "axes[1].text(-1.5*(L+d/2.0), 1.02*Vo, str1, fontsize=24, color=\"blue\")\n",
    "if(d>0.0): axes[1].text(d/2, 1.02*Vo, str2, fontsize=24, color=\"blue\")\n",
    "# Defining the maximum amplitude of the wavefunction\n",
    "if ((E_vals[1]-E_vals[0])/(E_vals[2]-E_vals[0]) < 0.2):\n",
    "    amp = np.sqrt((E_vals[2]-E_vals[0])/1.5)\n",
    "else:\n",
    "    amp = np.sqrt((E_vals[1]-E_vals[0])/1.5)\n",
    "# Plotting the energy levels\n",
    "for n in range(1,nstates+1):\n",
    "    # Odd solution\n",
    "    if (n%2==0): axes[1].hlines(E_vals[n-1], -1.5*L-d/2.0, 1.5*L+d/2.0, linewidth=1.8, linestyle='--', color=\"#800000\")\n",
    "    # Even solution\n",
    "    if (n%2==1): axes[1].hlines(E_vals[n-1], -1.5*L-d/2.0, 1.5*L+d/2.0, linewidth=1.8, linestyle='--', color=\"#ff4d4d\")\n",
    "    ax.margins(0.00)            \n",
    "axes[1].vlines(-L-d/2.0, 0.0, Vo, linewidth=4.8, color=\"blue\")\n",
    "if(d>0.0):\n",
    "    axes[1].vlines(-d/2.0, 0.0, V1, linewidth=4.8, color=\"blue\")\n",
    "    axes[1].vlines(d/2.0, 0.0, V1, linewidth=4.8, color=\"blue\")\n",
    "axes[1].vlines(L+d/2.0, 0.0, Vo, linewidth=4.8, color=\"blue\")\n",
    "axes[1].hlines(Vo, -1.5*L-d/2.0, -L-d/2.0, linewidth=4.8, color=\"blue\")\n",
    "axes[1].hlines(0.0, -L-d/2.0, -d/2.0, linewidth=4.8, color=\"blue\")\n",
    "axes[1].hlines(V1, -d/2.0, d/2.0, linewidth=4.8, color=\"blue\")\n",
    "axes[1].hlines(0.0, d/2.0, L+d/2.0, linewidth=4.8, color=\"blue\")\n",
    "axes[1].hlines(Vo, L+d/2.0, 1.5*L+d/2.0, linewidth=4.8, color=\"blue\")\n",
    "axes[1].set_title('Odd Wavefunctions', fontsize=30)\n",
    "\n",
    "# Defining the X ranges\n",
    "X_lef2 = np.linspace(-1.5*L-d/2.0, -L-d/2.0, 900,endpoint=True)\n",
    "X_lef1 = np.linspace(-L-d/2.0, -d/2.0, 900,endpoint=True)\n",
    "X_mid = np.linspace(-d/2.0, d/2.0, 900,endpoint=True)\n",
    "X_rig1 = np.linspace(d/2.0, L+d/2.0, 900,endpoint=True)\n",
    "X_rig2 = np.linspace(L+d/2.0, 1.5*L+d/2.0, 900,endpoint=True)\n",
    "\n",
    "# Plotting the wavefunctions\n",
    "for n in range(1,nstates+1):\n",
    "    k = np.sqrt(E_vals[n-1])*val\n",
    "    a0 = np.sqrt(Vo-E_vals[n-1])*val\n",
    "    a1 = np.sqrt(V1-E_vals[n-1])*val\n",
    "    str1=\"$n = \"+str(n)+r\"$, $E_{\"+str(n)+r\"} = %.3f$ eV\"%(E_vals[n-1])\n",
    "    # Odd solution \n",
    "    if (n%2==0):\n",
    "        C = amp/np.sqrt(f3(E_vals[n-1])*f3(E_vals[n-1])+1.0)\n",
    "        B = f3(E_vals[n-1])*C\n",
    "        A = (B*np.cos(k*d/2.0)+C*np.sin(k*d/2.0))/(-np.exp(-a1*d/2.0)+np.exp(a1*d/2.0))\n",
    "        D = np.exp(a0*(L+d/2.0))*(B*np.cos(k*(L+d/2.0))+C*np.sin(k*(L+d/2.0)))\n",
    "        axes[1].plot(X_lef2, E_vals[n-1]-D*np.exp(a0*X_lef2), color=\"#800000\", label=\"\", linewidth=2.8)\n",
    "        axes[1].plot(X_lef1, E_vals[n-1]-B*np.cos(k*X_lef1)+C*np.sin(k*X_lef1), color=\"#800000\", label=\"\", linewidth=2.8)\n",
    "        axes[1].plot(X_mid,  E_vals[n-1]+A*(-np.exp(-a1*X_mid)+np.exp(a1*X_mid)), color=\"#800000\", label=\"\", linewidth=2.8)\n",
    "        axes[1].plot(X_rig1, E_vals[n-1]+B*np.cos(k*X_rig1)+C*np.sin(k*X_rig1), color=\"#800000\", label=\"\", linewidth=2.8)\n",
    "        axes[1].plot(X_rig2, E_vals[n-1]+D*np.exp(-a0*X_rig2), color=\"#800000\", label=\"\", linewidth=2.8)\n",
    "        axes[1].text(1.25*(L+d/2.0), E_vals[n-1]+0.01*Vo, str1, fontsize=16, color=\"#800000\")\n",
    "    \n",
    "plt.show()"
   ]
  },
  {
   "cell_type": "markdown",
   "metadata": {},
   "source": [
    "The even wavefunctions maintain the numbers of nodes as in the separate boxes, while the odd solutions have an additional node at the center of the barrier.  Since the lowest energy corresponds to the even solution of the wavefunction, and the states are labeled by their quantum number (n=1,2...nmax), the even solutions will correspond to odd quantum numbers and the odd solutions will correspond to even quantum numbers.  \n"
   ]
  },
  {
   "cell_type": "code",
   "execution_count": null,
   "metadata": {
    "collapsed": false
   },
   "outputs": [],
   "source": [
    "print (\"\\nThe Probability Densities are:\")\n",
    "\n",
    "# Drawing the backgroung graph\n",
    "fig, axes = plt.subplots(1, 2, figsize=(19,9))\n",
    "axes[0].spines['right'].set_color('none')\n",
    "axes[0].xaxis.tick_bottom()\n",
    "axes[0].spines['left'].set_color('none')\n",
    "axes[0].axes.get_yaxis().set_visible(False)\n",
    "axes[0].spines['top'].set_color('none')\n",
    "\n",
    "if (V1 > 1.4*Vo):  \n",
    "    Ymax=1.4*Vo\n",
    "else:\n",
    "    Ymax=1.1*V1\n",
    "axes[0].axis([-1.5*L-d/2.0,1.5*L+d/2.0,0.0,Ymax])\n",
    "axes[0].set_xlabel(r'$X$ (Angstroms)')\n",
    "str1=\"$V_o = %.2f$ eV\"%(Vo)\n",
    "str2=\"$V_1 = %.2f$ eV\"%(V1)\n",
    "axes[0].text(1.05*(L+d/2.0), 1.02*Vo, str1, fontsize=24, color=\"blue\")\n",
    "axes[0].text(-1.5*(L+d/2.0), 1.02*Vo, str1, fontsize=24, color=\"blue\")\n",
    "if(d>0.0): axes[0].text(d/2, 1.02*Vo, str2, fontsize=24, color=\"blue\")\n",
    "# Defining the maximum amplitude of the wavefunction\n",
    "if ((E_vals[1]-E_vals[0])/(E_vals[2]-E_vals[0]) < 0.2):\n",
    "    amp = np.sqrt((E_vals[2]-E_vals[0])/1.5)\n",
    "else:\n",
    "    amp = np.sqrt((E_vals[1]-E_vals[0])/1.5)\n",
    "# Plotting the energy levels\n",
    "for n in range(1,nstates+1):\n",
    "    # Odd solution\n",
    "    if (n%2==0): axes[0].hlines(E_vals[n-1], -1.5*L-d/2.0, 1.5*L+d/2.0, linewidth=1.8, linestyle='--', color=\"#800000\")\n",
    "    # Even solution\n",
    "    if (n%2==1): axes[0].hlines(E_vals[n-1], -1.5*L-d/2.0, 1.5*L+d/2.0, linewidth=1.8, linestyle='--', color=\"#ff4d4d\")\n",
    "axes[0].margins(0.00)\n",
    "axes[0].vlines(-L-d/2.0, 0.0, Vo, linewidth=4.8, color=\"blue\")\n",
    "if(d>0.0):\n",
    "    axes[0].vlines(-d/2.0, 0.0, V1, linewidth=4.8, color=\"blue\")\n",
    "    axes[0].vlines(d/2.0, 0.0, V1, linewidth=4.8, color=\"blue\")\n",
    "axes[0].vlines(L+d/2.0, 0.0, Vo, linewidth=4.8, color=\"blue\")\n",
    "axes[0].hlines(Vo, -1.5*L-d/2.0, -L-d/2.0, linewidth=4.8, color=\"blue\")\n",
    "axes[0].hlines(0.0, -L-d/2.0, -d/2.0, linewidth=4.8, color=\"blue\")\n",
    "axes[0].hlines(V1, -d/2.0, d/2.0, linewidth=4.8, color=\"blue\")\n",
    "axes[0].hlines(0.0, d/2.0, L+d/2.0, linewidth=4.8, color=\"blue\")\n",
    "axes[0].hlines(Vo, L+d/2.0, 1.5*L+d/2.0, linewidth=4.8, color=\"blue\")\n",
    "axes[0].set_title('Probability Density for Even Wavefunctions', fontsize=30)\n",
    "\n",
    "# Defining the X ranges\n",
    "X_lef2 = np.linspace(-1.5*L-d/2.0, -L-d/2.0, 900,endpoint=True)\n",
    "X_lef1 = np.linspace(-L-d/2.0, -d/2.0, 900,endpoint=True)\n",
    "X_mid = np.linspace(-d/2.0, d/2.0, 900,endpoint=True)\n",
    "X_rig1 = np.linspace(d/2.0, L+d/2.0, 900,endpoint=True)\n",
    "X_rig2 = np.linspace(L+d/2.0, 1.5*L+d/2.0, 900,endpoint=True)\n",
    "\n",
    "# Plotting the probability densities\n",
    "for n in range(1,nstates+1):\n",
    "    k = np.sqrt(E_vals[n-1])*val\n",
    "    a0 = np.sqrt(Vo-E_vals[n-1])*val\n",
    "    a1 = np.sqrt(V1-E_vals[n-1])*val\n",
    "    str1=\"$n = \"+str(n)+r\"$, $E_{\"+str(n)+r\"} = %.3f$ eV\"%(E_vals[n-1])\n",
    "    # Even solution wavefunctions\n",
    "    if (n%2==1):\n",
    "        B = amp/np.sqrt(f1(E_vals[n-1])*f1(E_vals[n-1])+1.0)\n",
    "        C = f1(E_vals[n-1])*B\n",
    "        A = (B*np.cos(k*d/2.0)+C*np.sin(k*d/2.0))/(np.exp(-a1*d/2.0)+np.exp(a1*d/2.0))\n",
    "        D = np.exp(a0*(L+d/2.0))*(B*np.cos(k*(L+d/2.0))+C*np.sin(k*(L+d/2.0)))\n",
    "        axes[0].plot(X_lef2, E_vals[n-1]+(D*np.exp(a0*X_lef2))**2, color=\"#ff4d4d\", label=\"\", linewidth=2.8)\n",
    "        axes[0].fill_between(X_lef2, E_vals[n-1], E_vals[n-1]+(D*np.exp(a0*X_lef2))**2, color=\"#3dbb2a\")\n",
    "        axes[0].plot(X_lef1, E_vals[n-1]+(B*np.cos(k*X_lef1)-C*np.sin(k*X_lef1))**2, color=\"#ff4d4d\", label=\"\", linewidth=2.8)\n",
    "        axes[0].plot(X_mid,  E_vals[n-1]+(A*(np.exp(-a1*X_mid)+np.exp(a1*X_mid)))**2, color=\"#ff4d4d\", label=\"\", linewidth=2.8)\n",
    "        if(d>0.0): axes[0].fill_between(X_mid, E_vals[n-1], E_vals[n-1]+(A*(np.exp(-a1*X_mid)+np.exp(a1*X_mid)))**2, color=\"purple\")\n",
    "        axes[0].plot(X_rig1, E_vals[n-1]+(B*np.cos(k*X_rig1)+C*np.sin(k*X_rig1))**2, color=\"#ff4d4d\", label=\"\", linewidth=2.8)\n",
    "        axes[0].plot(X_rig2, E_vals[n-1]+(D*np.exp(-a0*X_rig2))**2, color=\"#ff4d4d\", label=\"\", linewidth=2.8)\n",
    "        axes[0].fill_between(X_rig2, E_vals[n-1], E_vals[n-1]+(D*np.exp(-a0*X_rig2))**2, color=\"#3dbb2a\")\n",
    "        axes[0].text(1.25*(L+d/2.0), E_vals[n-1]+0.01*Vo, str1, fontsize=16, color=\"#ff4d4d\")\n",
    "    \n",
    "# Drawing the backgroung graph\n",
    "axes[1].spines['right'].set_color('none')\n",
    "axes[1].xaxis.tick_bottom()\n",
    "axes[1].spines['left'].set_color('none')\n",
    "axes[1].axes.get_yaxis().set_visible(False)\n",
    "axes[1].spines['top'].set_color('none')\n",
    "axes[1].axis([-1.5*L-d/2.0,1.5*L+d/2.0,0.0,Ymax])\n",
    "axes[1].set_xlabel(r'$X$ (Angstroms)')\n",
    "str1=\"$V_o = %.3f$ eV\"%(Vo)\n",
    "str11=\"$V_1= %.3f$ eV\"% (V1)\n",
    "axes[1].text(1.05*(L+d/2.0), 1.02*Vo, str1, fontsize=24, color=\"blue\")\n",
    "axes[1].text(-1.5*(L+d/2.0), 1.02*Vo, str1, fontsize=24, color=\"blue\")\n",
    "if(d>0.0): axes[1].text(d/2, 1.02*Vo, str2, fontsize=24, color=\"blue\")\n",
    "# Defining the maximum amplitude of the wavefunction\n",
    "if ((E_vals[1]-E_vals[0])/(E_vals[2]-E_vals[0]) < 0.2):\n",
    "    amp = np.sqrt((E_vals[2]-E_vals[0])/1.5)\n",
    "else:\n",
    "    amp = np.sqrt((E_vals[1]-E_vals[0])/1.5)\n",
    "# Plotting the energy levels\n",
    "for n in range(1,nstates+1):\n",
    "    # Odd solution\n",
    "    if (n%2==0): axes[1].hlines(E_vals[n-1], -1.5*L-d/2.0, 1.5*L+d/2.0, linewidth=1.8, linestyle='--', color=\"#800000\")\n",
    "    # Even solution\n",
    "    if (n%2==1): axes[1].hlines(E_vals[n-1], -1.5*L-d/2.0, 1.5*L+d/2.0, linewidth=1.8, linestyle='--', color=\"#ff4d4d\")\n",
    "    ax.margins(0.00)            \n",
    "axes[1].vlines(-L-d/2.0, 0.0, Vo, linewidth=4.8, color=\"blue\")\n",
    "if(d>0.0):\n",
    "    axes[1].vlines(-d/2.0, 0.0, V1, linewidth=4.8, color=\"blue\")\n",
    "    axes[1].vlines(d/2.0, 0.0, V1, linewidth=4.8, color=\"blue\")\n",
    "axes[1].vlines(L+d/2.0, 0.0, Vo, linewidth=4.8, color=\"blue\")\n",
    "axes[1].hlines(Vo, -1.5*L-d/2.0, -L-d/2.0, linewidth=4.8, color=\"blue\")\n",
    "axes[1].hlines(0.0, -L-d/2.0, -d/2.0, linewidth=4.8, color=\"blue\")\n",
    "axes[1].hlines(V1, -d/2.0, d/2.0, linewidth=4.8, color=\"blue\")\n",
    "axes[1].hlines(0.0, d/2.0, L+d/2.0, linewidth=4.8, color=\"blue\")\n",
    "axes[1].hlines(Vo, L+d/2.0, 1.5*L+d/2.0, linewidth=4.8, color=\"blue\")\n",
    "axes[1].set_title('Probability Density for Odd Wavefunctions', fontsize=30)\n",
    "\n",
    "# Defining the X ranges\n",
    "X_lef2 = np.linspace(-1.5*L-d/2.0, -L-d/2.0, 900,endpoint=True)\n",
    "X_lef1 = np.linspace(-L-d/2.0, -d/2.0, 900,endpoint=True)\n",
    "X_mid = np.linspace(-d/2.0, d/2.0, 900,endpoint=True)\n",
    "X_rig1 = np.linspace(d/2.0, L+d/2.0, 900,endpoint=True)\n",
    "X_rig2 = np.linspace(L+d/2.0, 1.5*L+d/2.0, 900,endpoint=True)\n",
    "\n",
    "# Plotting the wavefunctions\n",
    "for n in range(1,nstates+1):\n",
    "    k = np.sqrt(E_vals[n-1])*val\n",
    "    a0 = np.sqrt(Vo-E_vals[n-1])*val\n",
    "    a1 = np.sqrt(V1-E_vals[n-1])*val\n",
    "    str1=\"$n = \"+str(n)+r\"$, $E_{\"+str(n)+r\"} = %.3f$ eV\"%(E_vals[n-1])\n",
    "    # Odd solution \n",
    "    if (n%2==0):\n",
    "        C = amp/np.sqrt(f3(E_vals[n-1])*f3(E_vals[n-1])+1.0)\n",
    "        B = f3(E_vals[n-1])*C\n",
    "        A = (B*np.cos(k*d/2.0)+C*np.sin(k*d/2.0))/(-np.exp(-a1*d/2.0)+np.exp(a1*d/2.0))\n",
    "        D = np.exp(a0*(L+d/2.0))*(B*np.cos(k*(L+d/2.0))+C*np.sin(k*(L+d/2.0)))\n",
    "        axes[1].plot(X_lef2, E_vals[n-1]+(D*np.exp(a0*X_lef2))**2, color=\"#800000\", label=\"\", linewidth=2.8)\n",
    "        axes[1].fill_between(X_lef2, E_vals[n-1], E_vals[n-1]+(D*np.exp(a0*X_lef2))**2, color=\"#3dbb2a\")\n",
    "        axes[1].plot(X_lef1, E_vals[n-1]+(-B*np.cos(k*X_lef1)+C*np.sin(k*X_lef1))**2, color=\"#800000\", label=\"\", linewidth=2.8)\n",
    "        axes[1].plot(X_mid,  E_vals[n-1]+(A*(-np.exp(-a1*X_mid)+np.exp(a1*X_mid)))**2, color=\"#800000\", label=\"\", linewidth=2.8)\n",
    "        if(d>0.0): axes[1].fill_between(X_mid, E_vals[n-1], E_vals[n-1]+(A*(-np.exp(-a1*X_mid)+np.exp(a1*X_mid)))**2, color=\"purple\")\n",
    "        axes[1].plot(X_rig1, E_vals[n-1]+(B*np.cos(k*X_rig1)+C*np.sin(k*X_rig1))**2, color=\"#800000\", label=\"\", linewidth=2.8)\n",
    "        axes[1].plot(X_rig2, E_vals[n-1]+(D*np.exp(-a0*X_rig2))**2, color=\"#800000\", label=\"\", linewidth=2.8)\n",
    "        axes[1].fill_between(X_rig2, E_vals[n-1], E_vals[n-1]+(D*np.exp(-a0*X_rig2))**2, color=\"#3dbb2a\")\n",
    "        axes[1].text(1.25*(L+d/2.0), E_vals[n-1]+0.01*Vo, str1, fontsize=16, color=\"#800000\")\n",
    "    \n",
    "plt.show()"
   ]
  },
  {
   "cell_type": "markdown",
   "metadata": {},
   "source": [
    "When the boxes are close together, the coupling effect between both boxes is observed. The energy levels of the single finite box split into two levels for the two-box potential: one higher (odd solutions) and one lower in energy (even solutions). The even solution wavefunctions have the unusual result of a probability density of finding the particle inside the $V_1$ barrier (area shaded in cyan) to be larger, while for the odd solutions, the probability of finding the particle between the boxes reaches zero. \n"
   ]
  },
  {
   "cell_type": "markdown",
   "metadata": {},
   "source": [
    "The tunneling probability (areas shaded in green in the graphs above) correspond to the area under the probability densities outside both boxes, that is, for $x \\geq \\frac{d}{2}+L$ and for $x \\leq -\\frac{d}{2}-L$. It corresponds to:\n",
    "$$ \\frac{\\int^{-\\frac{d}{2}-L}_{-\\infty} |\\psi(x)|^2\\ dx +\\int^{+\\infty}_{\\frac{d}{2}+L} |\\psi(x)|^2\\ dx }{\\int_{-\\infty}^{+\\infty} |\\psi(x)|^2\\ dx }$$\n",
    "\n",
    "It is also interesting to evaluate the probability of finding the particle inside the barrier (area shaded in purple in the cell above), that is, between $-\\frac{d}{2} \\leq x \\leq \\frac{d}{2}$. This probability equals to:\n",
    "$$ \\frac{\\int_{-\\frac{d}{2}}^{\\frac{d}{2}} |\\psi(x)|^2\\ dx}{\\int_{-\\infty}^{+\\infty} |\\psi(x)|^2\\ dx }$$\n",
    "\n",
    "These integrals can be solved analytically (for the even and for the odd solutions). After doing that, the tunneling probability and probability of being inside the barrier for each state is:"
   ]
  },
  {
   "cell_type": "code",
   "execution_count": null,
   "metadata": {
    "collapsed": false
   },
   "outputs": [],
   "source": [
    "print (\"\\nThe tunneling probabilities and probabilities of being inside the barrier are:\")\n",
    "for n in range(1,nstates+1):\n",
    "    k = np.sqrt(E_vals[n-1])*val\n",
    "    a0 = np.sqrt(Vo-E_vals[n-1])*val\n",
    "    a1 = np.sqrt(V1-E_vals[n-1])*val\n",
    "    # Odd wavefunction\n",
    "    if (n%2==0):\n",
    "        C = 1.0\n",
    "        B = f3(E_vals[n-1])*C\n",
    "        D = np.exp(a0*(L+d/2.0))*(B*np.cos(k*(L+d/2.0))+C*np.sin(k*(L+d/2.0)))\n",
    "        tunn_prob = D*D*np.exp(-a0*(2.0*L+d))/(2.0*a0)\n",
    "        total_prob = tunn_prob\n",
    "        if (d>0.0):\n",
    "            A = (B*np.cos(k*d/2.0)+C*np.sin(k*d/2.0))/(-np.exp(-a1*d/2.0)+np.exp(a1*d/2.0))\n",
    "            barr_prob = A*A*(np.sinh(a1*d)/a1-d)\n",
    "            total_prob += barr_prob\n",
    "        else:\n",
    "            barr_prob = 0.0\n",
    "        total_prob += (B*B*(np.sin(k*(2.0*L+d))+2.0*L*k-np.sin(k*d))+2.0*B*C*(np.cos(k*d)-np.cos(k*(2.0*L+d)))+C*C*(-np.sin(k*(2.0*L+d))+2.0*L*k+np.sin(k*d)))/(4.0*k)\n",
    "    # Even wavefunction\n",
    "    else:\n",
    "        B = 1.0\n",
    "        C = f1(E_vals[n-1])*B\n",
    "        A = (B*np.cos(k*d/2.0)+C*np.sin(k*d/2.0))/(np.exp(-a1*d/2.0)+np.exp(a1*d/2.0))\n",
    "        D = np.exp(a0*(L+d/2.0))*(B*np.cos(k*(L+d/2.0))+C*np.sin(k*(L+d/2.0)))\n",
    "        barr_prob = A*A*(np.sinh(a1*d)/a1+d)\n",
    "        tunn_prob = D*D*np.exp(-a0*(2.0*L+d))/(2.0*a0)\n",
    "        total_prob = barr_prob + tunn_prob\n",
    "        total_prob += (B*B*(np.sin(k*(2.0*L+d))+2.0*L*k-np.sin(k*d))+2.0*B*C*(np.cos(k*d)-np.cos(k*(2.0*L+d)))+C*C*(-np.sin(k*(2.0*L+d))+2.0*L*k+np.sin(k*d)))/(4.0*k)\n",
    "    print (\"  State  n=%3d   tunneling probability = %5.2f%%, barrier probability = %5.2f%%\" % (n,100*tunn_prob/total_prob,100*barr_prob/total_prob))"
   ]
  },
  {
   "cell_type": "markdown",
   "metadata": {},
   "source": [
    "See how low the probability of finding the particle inside the barrier is for odd wavefunctions (even values of $n$)"
   ]
  }
 ],
 "metadata": {
  "kernelspec": {
   "display_name": "Python 2",
   "language": "python",
   "name": "python2"
  },
  "language_info": {
   "codemirror_mode": {
    "name": "ipython",
    "version": 2
   },
   "file_extension": ".py",
   "mimetype": "text/x-python",
   "name": "python",
   "nbconvert_exporter": "python",
   "pygments_lexer": "ipython2",
   "version": "2.7.12"
  }
 },
 "nbformat": 4,
 "nbformat_minor": 1
}
